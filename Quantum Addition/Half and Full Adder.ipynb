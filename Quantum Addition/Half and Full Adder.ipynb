{
  "metadata": {
    "kernelspec": {
      "name": "python",
      "display_name": "Pyolite",
      "language": "python"
    },
    "language_info": {
      "codemirror_mode": {
        "name": "python",
        "version": 3
      },
      "file_extension": ".py",
      "mimetype": "text/x-python",
      "name": "python",
      "nbconvert_exporter": "python",
      "pygments_lexer": "ipython3",
      "version": "3.8"
    }
  },
  "nbformat_minor": 5,
  "nbformat": 4,
  "cells": [
    {
      "cell_type": "markdown",
      "source": "# Full Stack Quantum Computing\n## Half and Full Adder Implementation",
      "metadata": {},
      "id": "5c9b3e5f-343c-4c67-bdc3-9e1e0af62de6"
    },
    {
      "cell_type": "markdown",
      "source": "# Introduction",
      "metadata": {},
      "id": "33aab06e-d478-4489-b825-2ebfdf0051af"
    },
    {
      "cell_type": "markdown",
      "source": "A quantum computer accepts input states that are coherent superpositions and subsequently manipulates these into corresponding superposition output states through a computation process. Quantum computation is a sequence of unitary transformations that form parallel data processing [1]. This allows quantum computers to efficiently solve problems which are intractable to classical computers. The quantum theory of computation reveals the fundamental connections between the laws of physics and the nature of mathematics [2,3].\n\nUnitary operations are reversible therefore quantum arithmetic is built using reversible logical components [2]. Evidently, reversible quantum networks require additional storage for intermediate results. There is a delicate balance between number of computational steps and amount of auxilliary memory used in the implementation of quantum arithmetic.\n\nIt is often possible and even desirable to perform certain parts of quantum computations using classical conventional methods. This simplifies information storage and the information retrieval process. Thus leading to a practical distinction between quantum and classical variables and their appropriate usage and limitations [3].\n\nThis lab exercise attemps a demonstration of quantum arithmetic by constructing a quantum network (qu-net). The qu-net should demonstrate the optimal use of auxiliary memory by applying a computational reversal process to optimise space usage. The network is validated against the conventional method of arithmetic using truth tables. The space complexity of the network is discussed.",
      "metadata": {},
      "id": "c8920ad6-1ace-49b2-8a98-d061b9595c90"
    },
    {
      "cell_type": "markdown",
      "source": "# BACKGROUND",
      "metadata": {},
      "id": "5be15006-76b7-4779-b540-93f8a76e6785"
    },
    {
      "cell_type": "markdown",
      "source": "A conventional or classical computer performs operations on classical bits using Boolean logic gates, while Quantum computers perform operations on qubits using quantum gates by means of unitary matrices. Classical logic gates are represented by truth tables with an arbitary number $n_i$ input and $n_o$ output width, quantum gates are represented by truth tables with an equal $n$ input and output width [4]. Classical half and full adders are illustrated by Fig. 1",
      "metadata": {},
      "id": "9adec356-c382-4172-b29e-15965877c3ae"
    },
    {
      "cell_type": "code",
      "source": "![image.png](attachment:image.png",
      "metadata": {},
      "execution_count": null,
      "outputs": [],
      "id": "c2cfbf0b-f074-4633-aa28-fca71051a7c7"
    },
    {
      "cell_type": "markdown",
      "source": "# I. BASIC CONCEPTS",
      "metadata": {},
      "id": "6decd1b1-eb5f-469d-9fa4-3fd3d892a445"
    },
    {
      "cell_type": "markdown",
      "source": "It may prove useful to define a string initialization of all quantum properties, where ZERO and ONE are string representations of $|0\\rangle$ and $|1\\rangle$ respectively. We may represent a Qbit with a two level quantum system as a class that inherits from the above mentioned QBaseState.",
      "metadata": {},
      "id": "bee5d829-a745-40ca-a121-5ddbe4866059"
    },
    {
      "cell_type": "markdown",
      "source": "A quantum network in this context is the unitary evolution which takes an input state encoded in binary in the computational basis form into an output state [1,2]. Quantum arithmetic has several implementation methods. Elementary quantum gates are used as building components. The unitary evolution operation can be formally expressed as\n\n$$ U_f |x\\rangle \\rightarrow |f(x)\\rangle$$\n\nwhere $ U_f$ is the unitary operator.\n\nThe addition of registers $|a\\rangle$ and $|b\\rangle)$ can be expressed as\n\n$$|a,b,0\\rangle \\rightarrow|a,b,a+b\\rangle$$\n\nThis expression demonstrates a naive approach using a anchilla bit ($|0\\rangle$) to store the intermediate results [5]. A better approach is an operation, expressed as\n\n$$|a,b,\\rangle \\rightarrow|a,a+b\\rangle$$\n\nwhich overwrites the result into one of the input registers [6]. The input $(a,b)$ can be obtained or reconstructed by reverse operating on the output without loss of information [3,6]. The rewritten register as well as the ouput register need to be sufficiently large to prevent overflows. A temporary register is also required to hold the carry of the operation to implement a full adder. The initialization is illustrated below.\n",
      "metadata": {},
      "id": "ce7bd83e-73ba-4943-bab1-df75b433df11"
    },
    {
      "cell_type": "code",
      "source": "def registerInit(n):\n        a = QuantumRegister(n) #first input number\\n\",\n        b = QuantumRegister(n+1) #second input number and sum\\n\",\n        c = QuantumRegister(n) # carry bits\\n\",\n        cl = ClassicalRegister(n+1) # final output\\n\",\n    \n        qc = QuantumCircuit(a, b, c, cl)\n    \n        return qc, cl, a, b, c, n",
      "metadata": {},
      "execution_count": null,
      "outputs": [],
      "id": "5201a6dd-5674-403e-9154-5ef9a884cbfd"
    },
    {
      "cell_type": "markdown",
      "source": "# II. NETWORK ARCHITECTURE\n\nThe network achitecture is illustrated by Fig. 2.\n\n![image.png](attachment:image.png)\n\nThe carries are calculated up until the most significant bit of the result, in a ripple formation. These operations are undone and subsequently the sum operations are performed. The reversal is denoted by the black bar on the left side.",
      "metadata": {},
      "id": "31e19679-bce6-4c61-945b-9ab34d49fa75"
    },
    {
      "cell_type": "markdown",
      "source": "# III. CARRY\n\nThe truth table for a carry gate is illustrated by below,\n\n|Carry In| A  |B |Output|\n|   :-:  | :-:|:-:|:-:|\n|   0    |0|0|0     |\n|   0    |0|1|0     |\n|   0    |1|0|0     |\n|   0    |1|1|1     |\n|   1    |0|0|0     |\n|   1    |0|1|1     |\n|   1    |1|0|1     |\n|   1    |1|1|1     |\n\nThe most significant bit of the result of $a+b$ is thus computed as follows: $$c_i  \\leftarrow \\text{$a_i$ AND $b_i$ AND $C_{i+1}$}$$\n\nwhere $a_i$,& $b_i$ and $c_i$ are the $ith$ qubit of the registers above. The set of operations can be explained as\n- if $a$ and $b$ are both in state $|1\\rangle$ flip $c_{i+1}$\n- if $a$ is in state $|1\\rangle$, flip $b$\n- finally, if both $c$ and $b$ are in state $|1\\rangle$ flip output bit\n    \nFig 3. illustrates the carry operation described above. \n   \n![image.png](attachment:image.png)\n \nProgrammatically this is done as follows:",
      "metadata": {},
      "id": "d776e9d2-eb3a-4986-8c2d-98a5af035762"
    },
    {
      "cell_type": "code",
      "source": "def carry(qc, a, b, c, n):\n    \n        for i in range(n-1):\n                qc.ccx(a[i], b[i], c[i+1])\n                qc.cx(a[i], b[i])\n                qc.ccx(c[i], b[i], c[i+1])\n                \n    #   reverse operation \n        qc.ccx(a[n-1], b[n-1], b[n])\n        qc.cx(a[n-1], b[n-1])\n        qc.ccx(c[n-1], b[n-1], b[n])\n        \n        qc.cx(c[n-1], b[n-1])\n       \n        return qc, a, b, c, n",
      "metadata": {
        "trusted": true
      },
      "execution_count": 7,
      "outputs": [],
      "id": "10f155fc-268d-4b5c-961b-91a481f43410"
    },
    {
      "cell_type": "markdown",
      "source": "The last iteration of the carry gate is stored at $b[n]$ while the last carry bit resides at $c[n-1]$.\nThe operation performed on $b[n-1]$ is reversed and thus renders itself to be reused or available for later use.\nAll operation perfomed during the carry gate implementation are reversed to essentially reset the register to its initial state while simultaneously performing the sum operation.\"",
      "metadata": {},
      "id": "979928ee-0a58-4770-84d8-84d861ec5893"
    },
    {
      "cell_type": "markdown",
      "source": "# IV. SUM\n\nThe truth table for the sum gate is illustrated below,\n\n|Carry In| A  |B |Output(B)|\n|   :-:  | :-:|:-:|:-:|\n|   0    |0|0|0     |\n|   0    |0|1|1     |\n|   0    |1|0|1     |\n|   0    |1|1|0     |\n|   1    |0|0|1     |\n|   1    |0|1|0     |\n|   1    |1|0|0     |\n|   1    |1|1|1     |",
      "metadata": {},
      "id": "124ed258-7328-47ca-b133-4cadce92282f"
    },
    {
      "cell_type": "markdown",
      "source": "The sum operation is achieved by applying a control gates whose operations are illustrated by Fig 4.\n\n![image.png](attachment:image.png)\n\nThis represents the elementary sum operation where the gate takes in the carry and the inputs. This operation can be understood as follows\n\n- If $carry$ is in state $|1\\rangle$, flip $b$.\n- If $a$ is in state $|1\\rangle$, flip $b$ again.\n\nProgrammatically the combined operations are illustrated below.\"\n",
      "metadata": {},
      "id": "f5bdcc37-6c1b-45fa-987e-633eba720777"
    },
    {
      "cell_type": "code",
      "source": "def SUM(qc, a, b, c, n): #couldn't use camel case here (sum is a predefined function)\\n\",\n   \n    for i in range(n-1):\n        qc.ccx(c[(n-2)-i], b[(n-2)-i], c[(n-1)-i])\n        qc.cx(a[(n-2)-i], b[(n-2)-i])\n        qc.ccx(a[(n-2)-i], b[(n-2)-i], c[(n-1)-i])\n    #   SUM Operation\\n\",\n        qc.cx(c[(n-2)-i], b[(n-2)-i])\n        qc.cx(a[(n-2)-i], b[(n-2)-i])\n               \n        return qc, a, b, c, n",
      "metadata": {
        "trusted": true
      },
      "execution_count": 10,
      "outputs": [],
      "id": "99bcd5d9-aef7-45bb-935e-12ba2b9fa988"
    },
    {
      "cell_type": "markdown",
      "source": "# V. NETWORK COMPLEXITY AND SCALABILITY\n\nThe quantum network size depends on the input size and scales linearly. The IBM Qiskit simulator has $32$ qubits. Considering that the input is $2n$ bits, a carry register of $n$ bits and a classical register of $n+1$ bits to hold the results; a total of $4n + 1$ bits is required to implement the full adder (of which $3n$ are qubits). This means that $n$ cannot be greater than $7.75$, rounded down to nearest integer of $7$.",
      "metadata": {},
      "id": "c6de59d2-8122-4990-8b0d-be8ba07f4428"
    },
    {
      "cell_type": "markdown",
      "source": "VI. FULL ADDER\n\nFor completeness the following documents the full adder implementation and the input initialisation process. An input of two binary numbers which are less than $8$ are initialised. The network size is initialised to the length of the longest input, this ensures that the registers can hold the final results results",
      "metadata": {},
      "id": "18cc5014-8501-4bb4-aedc-e5d9135be184"
    },
    {
      "cell_type": "code",
      "source": "def inputRequest():\n        valid = False\n        while not valid:\n            first_number = input(\"Enter first binary number: \")\n            second_number = input(\"Enter second binary number: \")\n            \n            if len(first_number) > 8 or len(second_number) > 8:\n                print(\"Invalid input. Try again\")\n            else: valid = True\n    \n        if len(first_number) >  len(second_number):\n            size = len(first_number)\n        else:\n            size = len(second_number)\n    \n        return first_number, second_number, size\n    ",
      "metadata": {
        "trusted": true
      },
      "execution_count": 12,
      "outputs": [],
      "id": "72f1aef8-656f-4d4f-857c-538786c8ee26"
    },
    {
      "cell_type": "markdown",
      "source": "The input is then transferred to the appropriate quantum registers. This is demonstrated programmatically below.",
      "metadata": {},
      "id": "eed448c5-e4c4-4614-bda3-a944ac97e124"
    },
    {
      "cell_type": "code",
      "source": "def quSet(first_number, second_number,a, b ,qc):\n   \n        count = 0\n        for i in first_number:\n                if i == \"1\": qc.x(a[len(first_number)- (count+1)])\n                count+=1\n   \n        count = 0\n        for i in first_number:\n                if i == \"1\": qc.x(b[len(second_number) - (count+1)])\n                count+=1\n   \n        return qc, a, b",
      "metadata": {
        "trusted": true
      },
      "execution_count": 14,
      "outputs": [],
      "id": "c72c8c09-0f33-4981-a54d-b84dbf591933"
    },
    {
      "cell_type": "markdown",
      "source": "The circuits output is obtained by measuring the result in register b and storing that in the classical register.",
      "metadata": {},
      "id": "7d7a7aee-8ce6-4758-ba3b-d908c0ee93fb"
    },
    {
      "cell_type": "code",
      "source": "def measure(qc, b, cl, n):\n        for i in range(n+1):\n            qc.measure(b[i],cl[i])\n        return qc",
      "metadata": {
        "trusted": true
      },
      "execution_count": 15,
      "outputs": [],
      "id": "399431da-4dab-4491-abd6-69b54544278e"
    },
    {
      "cell_type": "markdown",
      "source": "Finally the full adder implementation can be developed from the functions above.",
      "metadata": {},
      "id": "a33f7b8c-0136-49fb-b02a-dbf56e98360e"
    },
    {
      "cell_type": "code",
      "source": "def fullAdder():\n   \n    #     request inputs\n        first_number, second_number, n = inputRequest()\n    #     initalise registers using input size\n        qc, cl, a, b, c, n = registerInit(n)\n    #     transfer bit information into qubit registers\n        qc, a, b = quSet(first_number, second_number,a, b ,qc)\n    #     perform addition operation with carry\n        qc, a, b, c, n = carry(qc, a, b, c, n)\n        qc, a, b, c, n = SUM(qc, a, b, c, n)\n    \n        circuit = measure(qc, b, cl, n)\n   \n        num_shots = 1024\n        job = execute(circuit, backend=Aer.get_backend('qasm_simulator'), shot = num_shots)\n        \n        qasm_result = job.result().get_counts()\n        \n        print(qasm_result)\n       \n        provider = IBMQ.get_provider('ibm-q')\n    \n        qcomp = provider.get_backend('ibmq_16_melbourne')\n    \n    \n        job = execute(circuit, backend = qcomp)\n    \n        from qiskit.tools.monitor import job_monitor\n    \n        job_monitor(job)\n        quam_result = job.result().get_counts()\n        print(\"The measured Probabilities are:\\n\")\n    \n        print(quam_result)\n    \n        print(\"\\nThe result with the maximum probability:\\n\")\n    \n        output = max(quam_result.items(), key=operator.itemgetter(1))[0]\n        print(int(output,2))\n\n        print(\"The transpiled circuit is: \")\n        print(qc.qasm())\n    ",
      "metadata": {
        "trusted": true
      },
      "execution_count": 18,
      "outputs": [],
      "id": "240f060f-58af-44bd-8978-be0de4e6772e"
    },
    {
      "cell_type": "markdown",
      "source": "The complete circuit can be visualised below.",
      "metadata": {},
      "id": "bc7e8a50-cfd6-44e5-878b-eda9acea6f2a"
    },
    {
      "cell_type": "markdown",
      "source": "![image.png](attachment:image.png)",
      "metadata": {},
      "id": "0652219d-d432-4d5a-a017-7a07adfa1c19"
    },
    {
      "cell_type": "markdown",
      "source": "# VII. RESULT AND ANALYSIS\n\nThe truth table for a full adder is illustrated below,\n\n|Carry In| A  |B  |Carry Out| Sum\n|   :-:  | :-:|:-:|:-:      |:-:\n|   0    |0   |0  |0        |0\n|   0    |0   |1  |0        |1\n|   0    |1   |0  |0        |1\n|   0    |1   |1  |1        |0\n|   1    |0   |0  |0        |1\n|   1    |0   |1  |1        |0\n|   1    |1   |0  |1        |0\n|   1    |1   |1  |1        |1\n\n\nThis table is used to verify the results obtained from the simulations. The developed quantum network is simulated for a 3 qubit and 5 qubit circuit adding 1 bit numbers using the quantum hardware below.\n\n![image.png](attachment:image.png)\n\nThe simulation is illustrated below:",
      "metadata": {},
      "id": "4bed6ecc-1686-4bb6-8cc7-86ecf37dfc7b"
    },
    {
      "cell_type": "markdown",
      "source": "Enter first binary number: 101\nEnter second binary number: 101",
      "metadata": {},
      "id": "8d2e26da-dcba-453a-bde4-e08b0e5687e4"
    },
    {
      "cell_type": "code",
      "source": "{'1010': 1024}\nThe transpiled circuit is: \nOPENQASM 2.0;\ninclude \\\"qelib1.inc\\\";\nqreg q65[3];\nqreg q66[4];\nqreg q67[3];\ncreg c7[4];\nx q65[2];\nx q65[0];\nx q66[2];\nx q66[0];\nccx q65[0],q66[0],q67[1];\ncx q65[0],q66[0];\nccx q67[0],q66[0],q67[1];\nccx q65[1],q66[1],q67[2];\ncx q65[1],q66[1];\nccx q67[1],q66[1],q67[2];\nccx q65[2],q66[2],q66[3];\ncx q65[2],q66[2];\nccx q67[2],q66[2],q66[3];\ncx q67[2],q66[2];\nccx q67[1],q66[1],q67[2];\ncx q65[1],q66[1];\nccx q65[1],q66[1],q67[2];\ncx q67[1],q66[1];\ncx q65[1],q66[1];\nccx q67[0],q66[0],q67[1];\ncx q65[0],q66[0];\nccx q65[0],q66[0],q67[1];\ncx q67[0],q66[0];\\n\",\ncx q65[0],q66[0];\\n\",\nmeasure q66[0] -> c7[0];\nmeasure q66[1] -> c7[1];\nmeasure q66[2] -> c7[2];\nmeasure q66[3] -> c7[3];",
      "metadata": {
        "trusted": true
      },
      "execution_count": null,
      "outputs": [],
      "id": "99b7c424-6928-4c52-a4ed-9fdfdaf84723"
    },
    {
      "cell_type": "markdown",
      "source": "Enter numbers to simulate 3 qubit full adder",
      "metadata": {},
      "id": "39522af8-1eae-43df-8f3a-677f8660d72a"
    },
    {
      "cell_type": "code",
      "source": "fullAdder()",
      "metadata": {},
      "execution_count": null,
      "outputs": [],
      "id": "78530e2e-f211-4b5e-856b-3464046e5a70"
    },
    {
      "cell_type": "markdown",
      "source": "Below is the last result obtained",
      "metadata": {},
      "id": "d2107091-f11b-4e1c-960a-c470b32412cc"
    },
    {
      "cell_type": "markdown",
      "source": "SAMPLE OUTPUT",
      "metadata": {},
      "id": "9aaf79d7-2d9c-4348-ae86-88313c28545f"
    },
    {
      "cell_type": "code",
      "source": "Enter first binary number: 0\nEnter second binary number: 0",
      "metadata": {},
      "execution_count": null,
      "outputs": [],
      "id": "88f8b0e4-8040-4b0b-841a-5c1733e98c30"
    },
    {
      "cell_type": "markdown",
      "source": "{'00': 1024}\n    \nJob Status: job has successfully run\n   \n{'00': 452, '01': 170, '10': 238, '11': 164}\n    \nEnter first binary number: 1\n    \nEnter second binary number: 1\n    \n{'10': 1024}\n    \nJob Status: job has successfully run\n    \n{'00': 210, '01': 209, '10': 361, '11': 237}",
      "metadata": {},
      "id": "b6693c90-68fe-45e4-81ff-7c4c3181303d"
    },
    {
      "cell_type": "markdown",
      "source": "The results obtained above correlate with the truth table of the conventional full adder in particular the Qiskit Qasm simulator. The hardware simulated results present a distribution of possible states of the final output with the correct output of ${'00'}$ having the highest possibility. The other possibilities are due to errors in the hardware as evident from the hardware measurement errors depicted above. This forms as a validation of the implementation of the qu-net.",
      "metadata": {},
      "id": "9c0f985a-ef0f-4662-85e8-236fee362c73"
    },
    {
      "cell_type": "code",
      "source": "Enter first binary number: 10101\nEnter second binary number: 10101",
      "metadata": {},
      "execution_count": null,
      "outputs": [],
      "id": "744f8704-7d84-4de8-a18e-b4aaf6ad415c"
    },
    {
      "cell_type": "code",
      "source": "{'101010': 1024}\nThe transpiled circuit is: \nOPENQASM 2.0;\ninclude \"qelib1.inc\";\nqreg q72[5];\nqreg q73[6];\nqreg q74[5];\ncreg c8[6];\nx q72[4];\nx q72[2];\nx q72[0];\nx q73[4];\nx q73[2];\nx q73[0];\nccx q72[0],q73[0],q74[1];\ncx q72[0],q73[0];\nccx q74[0],q73[0],q74[1];\nccx q72[1],q73[1],q74[2];\ncx q72[1],q73[1];\nccx q74[1],q73[1],q74[2];\nccx q72[2],q73[2],q74[3];\ncx q72[2],q73[2];\nccx q74[2],q73[2],q74[3];\nccx q72[3],q73[3],q74[4];\ncx q72[3],q73[3];\nccx q74[3],q73[3],q74[4];\nccx q72[4],q73[4],q73[5];\ncx q72[4],q73[4];\nccx q74[4],q73[4],q73[5];\ncx q74[4],q73[4];\nccx q74[3],q73[3],q74[4];\ncx q72[3],q73[3];\nccx q72[3],q73[3],q74[4];\ncx q74[3],q73[3];\ncx q72[3],q73[3];\nccx q74[2],q73[2],q74[3];\ncx q72[2],q73[2];\nccx q72[2],q73[2],q74[3];\ncx q74[2],q73[2];\ncx q72[2],q73[2];\nccx q74[1],q73[1],q74[2];\ncx q72[1],q73[1];\nccx q72[1],q73[1],q74[2];\ncx q74[1],q73[1];\ncx q72[1],q73[1];\nccx q74[0],q73[0],q74[1];\ncx q72[0],q73[0];\nccx q72[0],q73[0],q74[1];\ncx q74[0],q73[0];\ncx q72[0],q73[0];\nmeasure q73[0] -> c8[0];\nmeasure q73[1] -> c8[1];\nmeasure q73[2] -> c8[2];\nmeasure q73[3] -> c8[3];\nmeasure q73[4] -> c8[4];\nmeasure q73[5] -> c8[5];",
      "metadata": {},
      "execution_count": null,
      "outputs": [],
      "id": "c2ec1b32-b0b3-430a-9255-04f1b523a878"
    },
    {
      "cell_type": "code",
      "source": "# Enter numbers to simulate 5 qubit full adder",
      "metadata": {},
      "execution_count": null,
      "outputs": [],
      "id": "1c6da775-dca2-4ea5-8bea-7da35bd1fdb6"
    },
    {
      "cell_type": "code",
      "source": "fullAdder()",
      "metadata": {},
      "execution_count": null,
      "outputs": [],
      "id": "dce46b7b-1c54-4919-849e-2e9752283b55"
    },
    {
      "cell_type": "markdown",
      "source": "Below is the last result obtained",
      "metadata": {},
      "id": "18d8cc62-f031-4ef3-83ad-80f986aff090"
    },
    {
      "cell_type": "markdown",
      "source": "\"An rather interesting development is observed when the circuit is reversed, when each gate is applied in the reversed order. Two kinds of outputs are observed depending on the input. When $a \\geqslant b$, the output produced is $(a, a-b)$ while the output $(a, 2^{n+1}+(a-b))$ is observed when $a<b$. It is observed that the most significant qubit in the second register will always be in the state $|1\\rangle$ when $a<b$. This allows for the comparison of the inputs, it can thus be deduced with certainty whether $a$ is bigger than $b$ or not by simply inspecting the overflow. This concept provides additional information about the inputs and can be used in the effecient implementation of complex digital communication. Conventional arithmetic lacks the ability to predict the input state by observing the output state.",
      "metadata": {},
      "id": "60472c27-c5de-4fc5-998e-e999a75f1d89"
    },
    {
      "cell_type": "markdown",
      "source": "# VIII. CONCLUSION\n\nA quantum network for general and scalable quantum addition is implemented and analysed. The qu-net is simulated using IBM Qiskit simulator, and a quantum hardware device. The simulation results obtained from the IBM Qiskit simulator and hardware are validated against the classical method. The results from the quantum device are analysed, some errors are observed as expected. The implementation requires $4n+1$ bits of which $3n$ are qubits.The size of the input is limited to $7$ qubits and $3$ qubits so as to not exceed the $32$ qubit limitation on IBM Qiskit simulator and the $15$ qubit quantum hardware respectively. The qu-net complexity and scalability is discussed and a modest linear scaling is achieved.",
      "metadata": {},
      "id": "87addf95-bc19-4ce2-b4c5-6672317f5a3c"
    },
    {
      "cell_type": "markdown",
      "source": "# IX. ACKNOWLEDGMENTS\n\n[1] D. Deutsch, Proc. R. Soc. London A 400, 97 (1985).\n   \n[2] D. Deutsch and R. Jozsa, Proc. R. Soc. London A 439, 553 \"(1992); E. Bernstein and U. Vazirani (unpublished); D. S. Simon, in Proceedings of the 35th Annual Symposium on the Foundations of Computer Science, edited by S. Goldwasser (IEEE Computer Society Press, Los Alamitos, CA, 1994).\n    \n    \n\"[3] P. W. Shor, in Proceedings of the 35th Annual Symposium on the Theory of Computer Science.\n    \n[4] A. Barenco, C.H. Bennett, R. Cleve, D. P. DiVicenzo, N. Margolus, P. Shor, T. Sleator, J. Smolin, and H. Weinfurter, Phys. Rev. A 52, 3457 ~1995.\n    \n[5] R. Wille and R. Drechsler, Towards a Design Flow for Reversible Logic, Springer, Dordrecht, 2010. DOI: 10.1007/978-90-481-9579-4. 10, 56\n    \n[6] R. Jozsa, Quantum algorithms, In: D. Bouwmeester, A. Ekert, and A. Zeilinger, The Physics of Quantum Information, Springer Verlag, Berlin, pp. 104–126, 2000. 62",
      "metadata": {},
      "id": "e49f7018-9cdc-492b-b276-ee82f24a506f"
    },
    {
      "cell_type": "code",
      "source": "",
      "metadata": {},
      "execution_count": null,
      "outputs": [],
      "id": "584bd207-a52a-4b57-bd21-2931b936eb74"
    }
  ]
}