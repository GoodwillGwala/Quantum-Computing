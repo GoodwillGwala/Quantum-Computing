{
  "metadata": {
    "kernelspec": {
      "name": "python",
      "display_name": "Pyolite",
      "language": "python"
    },
    "language_info": {
      "codemirror_mode": {
        "name": "python",
        "version": 3
      },
      "file_extension": ".py",
      "mimetype": "text/x-python",
      "name": "python",
      "nbconvert_exporter": "python",
      "pygments_lexer": "ipython3",
      "version": "3.8"
    }
  },
  "nbformat_minor": 5,
  "nbformat": 4,
  "cells": [
    {
      "cell_type": "markdown",
      "source": "# Full Stack Quantum Computing\n### Qauntum Fourier Transform Implementation\n",
      "metadata": {},
      "id": "992b3157-af2c-4ca7-9e43-48772789fe0a"
    },
    {
      "cell_type": "code",
      "source": "%matplotlib inline\n# Importing standard Qiskit libraries\nfrom qiskit import *\n# *QuantumCircuit, execute, Aer, IBMQ\n# from qiskit.compiler import transpile, assemble\n# # from qiskit.tools.jupyter import *\n# from qiskit.visualization import *\n# from ibm_quantum_widgets import *\n\n# Loading your IBM Q account(s)\nprovider = IBMQ.load_account()",
      "metadata": {},
      "execution_count": null,
      "outputs": [],
      "id": "616e98e8-e58d-4ac5-b38e-381c4784d0f3"
    },
    {
      "cell_type": "markdown",
      "source": "This can be represented programmatically using arrays using Numpy. In Python, we can ecapsulate this representation as a subclass of the Qubit and it's state. ",
      "metadata": {},
      "id": "1c62c015-72eb-49e6-b5ff-569011f15822"
    },
    {
      "cell_type": "code",
      "source": "import numpy as np\nimport math\n\n\nimport abc\nimport math\nimport cmath\n\n\n\nclass QBaseState(abc.ABC):\n    \"\"\"Common properties of quantum states.\n    This class represents an abstract method used by QBit and QGate.\n    It presents a column vector and row vector representation \n    \"\"\"\n\n    @property\n    def ket(self):\n        return self._state\n\n    @property\n    def bra(self):\n        return np.conjugate(self._state.T)\n\n    @abc.abstractmethod\n    def __init__(self, state):\n#         self._state = state",
      "metadata": {},
      "execution_count": null,
      "outputs": [],
      "id": "ab5eb5ec-1018-4f07-8404-49b563febcd6"
    },
    {
      "cell_type": "markdown",
      "source": "It may prove useful to define a string initialization of all quantum properties, where ZERO and ONE are string representations of $|0\\rangle$ and $|1\\rangle$ respectively. We may represent a Qbit with a two level quantum system as a class that inherits from the above mentioned QBaseState.",
      "metadata": {},
      "id": "674133bb-c388-442a-b453-dd3cd982cfd2"
    },
    {
      "cell_type": "code",
      "source": "class QBit(QBaseState):\n    \"\"\"A two level quantum system.\n    Attributes:\n        column vector (ket) and  row vector (bra)\n    Constants:\n        ZERO: string representation of 0 qubit\n        ONE : string representation of 1 qubit\n    \"\"\"\n    \n    ZERO = \"0\"\n    ONE  = \"1\"\n\n\n    def __init__(self, qubit_str):\n        \"\"\"initialize a QBit object from its string representation.\n        Args:\n            qubit_str:  \"1\" or \"0\"\n        \"\"\"\n        if qubit_str == QBit.ZERO:\n            state = np.array([[1], [0]])\n        elif qubit_str == QBit.ONE:\n            state = np.array([[0], [1]])\n\n        else:raise ValueError(\"A qubit must be one 0 or 1\")\n                      \n        super().__init__(state)\n        self._state_str = qubit_str\n",
      "metadata": {},
      "execution_count": null,
      "outputs": [],
      "id": "c46a9e62-6159-4cfa-82df-fdb5b85f38c3"
    },
    {
      "cell_type": "markdown",
      "source": "We have included a variable that further encapsulates the string representation. This allows Qbit objects to be initialized using strings and conveniently by refrencing that string class variable as follows:",
      "metadata": {},
      "id": "1b871e56-c5a9-4839-b85e-84ef5592bf67"
    },
    {
      "cell_type": "code",
      "source": "\n# Initialize using a string\nZERO_STRING = QBit(\"0\")\nONE_STRING  = QBit(\"1\")\n\n# Initialize using class constant variable\nZERO = QBit(QBit.ZERO)\n\nONE  = QBit(QBit.ONE)",
      "metadata": {},
      "execution_count": null,
      "outputs": [],
      "id": "73bf7be1-a8b5-4f95-828c-ca3678dbe7b7"
    },
    {
      "cell_type": "markdown",
      "source": "The following Python class defines a Quantum Gate it's properties as well as some attributes that are defined and enforced. The complex attributes of a quantum gate matrix are enfored, the matrix is checked for unitary properties. The multiplication of gates is defined as well as the string initialization of a quantum gate object and the initialization of a quantum control gate object. ",
      "metadata": {},
      "id": "6678e06f-3caf-4b6f-9093-0b8cd28eb4b1"
    },
    {
      "cell_type": "code",
      "source": "class QGate(object):\n    \"\"\"A general quantum gate.\n    QGate is a representation of a quantum gate using complex numpy matrices.\n   \n    Attributes:\n        matrix: the matrix representation of the gate\n    \"\"\"\n\n    @property\n    def matrix(self):\n        \"\"\"Return the matrix.\"\"\"\n        return self._matrix\n\n    @property\n    def dagger(self):\n        \"\"\"Return the Hermitian of the matrix.\"\"\"\n        return self._matrix.H\n    \n\n    def __init__(self, matrix, multiplier=0):\n        \"\"\"Create a quantum gate from a numpy matrix.\n        \n        Args:\n            matrix: a complex typed numpy matrix           \n        \"\"\"\n\n        if matrix.dtype == np.dtype('complex128'):\n            self._matrix = matrix\n        else:\n            self._matrix = matrix.astype('complex128')\n\n        shape = self._matrix.shape\n        if shape[0] != shape[1]:\n            raise ValueError(\"Gate is not a square matrix\")\n\n#         is_unitary = np.allclose(self._matrix.H * self._matrix, np.eye(shape[0]))\n#         if not is_unitary:\n#             raise ValueError(\"Gate is not unitary\")\n        \n        if multiplier:\n            self._matrix = self._matrix * multiplier\n\n    def __mul__(self, other):\n        \"\"\"Override matrix multiplication operator on QGate objects.\"\"\"\n        if hasattr(other, \"matrix\"):\n            return QGate(self.matrix * other.matrix)\n        return QGate(self.matrix, other)\n\n    \n    @classmethod\n    def String(cls, matrix_str, multiplier=0):\n        \"\"\"Create a quantum gate from a string.\n        Args:\n            matrix_str: the string representation of the quantum gate\n        \"\"\"\n        matrix = np.matrix(str(matrix_str), dtype='complex128')\n        return QGate(matrix, multiplier)\n\n   \n                \n    @classmethod\n    def Multiplication(cls, qu_gates):\n        \"\"\" Create a quantum gate by multiplying existing gates\n        Args:\n            qu_gates: a list of QGates to multiply\n        \"\"\"\n        if qu_gates:\n            matrix = qu_gates[0].matrix\n            for i in range(1, len(qu_gates)):\n                if matrix.shape != qu_gates[i].matrix.shape:\n                    raise ValueError(\"The matrices have different shapes\")\n\n                matrix = matrix * qu_gates[i].matrix\n\n            return QGate(matrix)\n        else:\n            raise ValueError(\"No gates specified\")\n\n\n    @classmethod\n    def Tensor(cls, qu_gates):\n        \"\"\" Create a quantum gate by the tensor product of other gates\n        \"\"\"\n        if qu_gates:\n            matrix = np.matrix([1], dtype=\"complex128\")\n            for i in range(len(qu_gates) - 1, -1, -1):\n                matrix = np.kron(qu_gates[i].matrix, matrix)\n\n            return QGate(matrix)\n        else:\n            raise ValueError(\"No gates specified\")\n\n    @classmethod\n    def Control(cls, qu_gate, control_qubit=1, target_qubit=2, num_qubits=2):\n        \"\"\" Creates a CONTROL-U gate\n        Args:\n            qu_gate: a U QGate\n            control_qubit: index of the control bit, the default is 1\n            target_qubit: the index of the target bit, the default is 2\n            num_qubits: total number of qubits, the default is 2\n        \"\"\"\n        \n        \"\"\"Perform some basic logic checks\"\"\"\n        if num_qubits < 2:\n            raise ValueError(\"control gates must operate on at least 2 qubits\")\n\n        if control_qubit == target_qubit:\n            raise ValueError(\"control qubit must be different than target qubit\")\n\n        if control_qubit > num_qubits:\n            raise ValueError(\"control qubit cannot be greater than total number of qubits\")\n\n        if target_qubit > num_qubits:\n            raise ValueErrorr(\"target qubit cannot be greater than total number of qubits\")\n\n        index = 1\n        \n        \n        control_mat = 1\n        target_mat = 1\n        \n        while index <= num_qubits:\n            if index == control_qubit:\n                    control_mat = np.kron(control_mat, np.eye(2))\n                    target_mat = np.kron(target_mat, qu_gate.matrix)\n\n            elif index == target_qubit:\n                    control_mat = np.kron(control_mat, ZERO.ket * ZERO.bra)\n                    target_mat = np.kron(target_mat, ONE.ket * ONE.bra)\n\n            else:\n                control_mat = np.kron(control_mat, np.eye(2))\n                target_mat = np.kron(target_mat, np.eye(2))\n\n            index += 1\n\n        control_gate = control_mat + target_mat\n        return QGate(control_gate)\n    \n    \n    \n    @classmethod\n    def Swap(cls, a, b, num_qubits):\n        \"\"\"\n        Initialize a swap gate between two qubits a and b\n        \"\"\"\n        control_ab = QGate.Control(X, a, b, num_qubits)\n        control_ba = QGate.Control(X, b, a, num_qubits)\n\n        matrix = control_ab.matrix * control_ba.matrix * control_ab.matrix\n        return QGate(matrix)\n    \n    \n    @classmethod\n    def Phase(cls, k):\n        \"\"\"\n        Initialize a phase gate R(k)\n        :param k: the power of the phase exp(2pi*j / 2 ** k)\n        :return: the phase gate R(k)\n        \"\"\"\n        phase = (2 * cmath.pi * 1j) / (2**k)\n        phase_matrix = np.matrix([[1, 0], [0, cmath.exp(phase)]], dtype=\"complex128\")\n        return QGate(phase_matrix)\n",
      "metadata": {},
      "execution_count": null,
      "outputs": [],
      "id": "bbef0d1b-710e-4f28-aa13-3d8f06744e11"
    },
    {
      "cell_type": "markdown",
      "source": "Once the quantum gate is fully defined, single-qubit gates can be intialized as follows:",
      "metadata": {},
      "id": "490c9cbc-3fca-4ddc-aa95-fe916fccace0"
    },
    {
      "cell_type": "code",
      "source": "X = QGate.String(\"0 1; 1 0\")\nP = QGate.Phase(3)",
      "metadata": {},
      "execution_count": null,
      "outputs": [],
      "id": "9bb62926-4748-4b37-b738-fd9d422fb171"
    },
    {
      "cell_type": "markdown",
      "source": "A multi-qubit $C_{X}$ gate using the LSB convention\n",
      "metadata": {},
      "id": "e9595e21-262c-4f1f-965b-381c1e6bdd07"
    },
    {
      "cell_type": "code",
      "source": "CNOT = QGate.Control(X,1,2)\nprint(CNOT.matrix)",
      "metadata": {},
      "execution_count": null,
      "outputs": [],
      "id": "c0902fca-541a-4209-80b4-ca53b8b2863f"
    },
    {
      "cell_type": "markdown",
      "source": "and $C_{X}$ gate using the MSB convention",
      "metadata": {},
      "id": "0adada19-808a-42d8-8aae-9008e6415632"
    },
    {
      "cell_type": "code",
      "source": "CNOT = QGate.Control(X,2,1)\nprint(CNOT.matrix)",
      "metadata": {},
      "execution_count": null,
      "outputs": [],
      "id": "0453dbea-8995-4f16-ab72-88f3d9009556"
    },
    {
      "cell_type": "markdown",
      "source": "We will now attempt to create the QFT circuit using python and Qiskit. The results will be compared for validation.",
      "metadata": {},
      "id": "fba7c655-9b90-4230-b42c-76f9ee440e5b"
    },
    {
      "cell_type": "markdown",
      "source": "# Python Implementation",
      "metadata": {},
      "id": "67f907e4-9a15-4a3c-8cbd-b587bab2856b"
    },
    {
      "cell_type": "code",
      "source": "ROOT2 = 1/math.sqrt(2)\nprint(ROOT2)\nH = QGate.String(\"1 1; 1 -1\", ROOT2)\nI = QGate(np.matrix(np.eye(2)))",
      "metadata": {},
      "execution_count": null,
      "outputs": [],
      "id": "707f8b44-db7e-4e36-84e7-0badcf999616"
    },
    {
      "cell_type": "code",
      "source": "def QFT(num_qubits):\n    \"\"\"Implementation of the quantum fourier transform.\n    Args:\n        num_qubits\n    \"\"\"\n    h_list = [I for x in range(0, num_qubits)]\n    qft_matrices = []\n    for qubit in range(1, num_qubits+1):\n        sub_matrices = []\n        \n        # create the Haddamard part\n        h_list[qubit-1] =  H\n        haddamard = QGate.Tensor(h_list)\n        sub_matrices.insert(0, haddamard)\n        h_list[qubit-1] = I\n\n        # create the control rotations\n        i = qubit + 1\n        phase = 2\n        while i <= num_qubits:\n            phase_gate = QGate.Phase(phase)\n            control = QGate.Control(phase_gate, i, qubit, num_qubits)\n            sub_matrices.insert(0, control)\n            i += 1\n            phase += 1\n\n        qft_matrices.insert(0, QGate.Multiplication(sub_matrices))\n\n    for qubit in range(1, int(num_qubits / 2) + 1):\n        swap = QGate.Swap(qubit, num_qubits - qubit + 1, num_qubits)\n        qft_matrices.insert(0, swap)\n\n    return QGate.Multiplication(qft_matrices)\n\n\n\nif __name__ == \"__main__\":\n    QFT3 = QFT(3)\n    ROWS = QFT3.matrix.shape[0]\n    for row in range(0, ROWS):\n        row_txt = \"\"\n        for col in range(0, ROWS):\n            row_txt += \"%s\\t\" % QFT3.matrix.item((row, col))\n        print(row_txt + \"\\n\")",
      "metadata": {},
      "execution_count": null,
      "outputs": [],
      "id": "0e960b87-aae5-489c-8315-d8ee5af7c9d0"
    },
    {
      "cell_type": "markdown",
      "source": "## QISKIT Implementation",
      "metadata": {},
      "id": "135071be-5510-474f-b3c0-7306e1757529"
    },
    {
      "cell_type": "code",
      "source": "def QftQiskit(qc, reg, n):\n    \"\"\"\n    Computes the quantum Fourier transform of reg, one qubit at\n    a time.\n    Apply one Hadamard gate to the nth qubit of the quantum register reg, and \n    then apply repeated phase rotations with parameters being pi divided by \n    increasing powers of two.\n    \"\"\" \n    if n == 0: # Exit function if circuit is empty\n        return circuit\n    \n    qc.h(reg[n])    \n    for i in range(0, n):\n        qc.cu1(pi/float(2**(i+1)), reg[n-(i+1)], reg[n])    \n",
      "metadata": {},
      "execution_count": null,
      "outputs": [],
      "id": "847444ee-7a55-4bd4-b114-031322b89c9e"
    },
    {
      "cell_type": "code",
      "source": "n = int(input(\"Enter number of Qubits\") or \"2\")\n\na = QuantumRegister(n+1, \"a\") \nb = QuantumRegister(n+1, \"b\")     \ncl = ClassicalRegister(n+1, \"cl\") \nqc = QuantumCircuit(a, b, cl, name=\"qc\")\n\nfor i in range(0, n+1):\n        QftQiskit(qc, a, n-i, math.pi)\n       \n        \nfor i in range(0, n+1):\n    qc.measure(a[i], cl[i])\n    print(qc.qasm()) \n\n    num_shots = 1024\n    job = execute(circuit, backend=Aer.get_backend('qasm_simulator'), shot = num_shots)\n    \n    qasm_result = job.result().get_counts()\n    \n    print(qasm_result)\n\n\ncounts = result.get_counts(\"qc\")\nprint(counts)\n#Select result with maximum probabilities\noutput = max(counts.items(), key=operator.itemgetter(1))[0]\nprint(output)",
      "metadata": {},
      "execution_count": null,
      "outputs": [],
      "id": "ac94362a-1958-47e6-bca5-253436dbed4b"
    }
  ]
}