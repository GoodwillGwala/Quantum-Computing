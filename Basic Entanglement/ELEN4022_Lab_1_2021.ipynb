{
  "metadata": {
    "kernelspec": {
      "name": "python",
      "display_name": "Pyolite",
      "language": "python"
    },
    "language_info": {
      "codemirror_mode": {
        "name": "python",
        "version": 3
      },
      "file_extension": ".py",
      "mimetype": "text/x-python",
      "name": "python",
      "nbconvert_exporter": "python",
      "pygments_lexer": "ipython3",
      "version": "3.8"
    }
  },
  "nbformat_minor": 5,
  "nbformat": 4,
  "cells": [
    {
      "cell_type": "markdown",
      "source": "# Lab 1 - Basic Quantum Entangler in Python",
      "metadata": {},
      "id": "5c9b3e5f-343c-4c67-bdc3-9e1e0af62de6"
    },
    {
      "cell_type": "markdown",
      "source": "# Introduction",
      "metadata": {},
      "id": "33aab06e-d478-4489-b825-2ebfdf0051af"
    },
    {
      "cell_type": "markdown",
      "source": "This exercise serves as an introduction to Quantum Computing and this lab report will review the basic paradigm of quantum qubits and quantum gates. The objective is to implement a Basic Entangler method using a CNOT Ring quantum gate.\n\nThe basic building blocks of the Basic Entangler are defined and implemented in Python. ",
      "metadata": {},
      "id": "c8920ad6-1ace-49b2-8a98-d061b9595c90"
    },
    {
      "cell_type": "markdown",
      "source": "# The Qubit",
      "metadata": {},
      "id": "5be15006-76b7-4779-b540-93f8a76e6785"
    },
    {
      "cell_type": "markdown",
      "source": "The qubit is the quantum analogue of the well known classical bit. The qubit is a mathemaical object or construct with specific properties that represent the fundamental unit of information in a quantum realm (Bloch Sphere. The Bloch sphere represents the quantum theory that a single qubit can store an infinite amount of information i.e. the unmeasured qubit stores information conserved by the dynamic evolution of Schrondingers equation.",
      "metadata": {},
      "id": "9adec356-c382-4172-b29e-15965877c3ae"
    },
    {
      "cell_type": "markdown",
      "source": "The state of a qubit is generally represented as a vector in a two-dimensional complex Hilbert space often denoted as \n\n$$\\left|\\psi\\right\\rangle = \\alpha\\left|0\\right\\rangle + \\beta \\left|1\\right\\rangle = \\begin{pmatrix}\n\\alpha \\\\\n\\beta\n\\end{pmatrix}$$\n\n\nwhere $\\alpha$ and $\\beta$ are complex numbers. The qubit has two possible states usually respresented as a column vector, \n\n$$\n\\left|0\\right\\rangle =  \n\\begin{pmatrix}\n1 \\\\\n0\n\\end{pmatrix}\n$$\n\n\n$$\n\\left|1\\right\\rangle =  \n\\begin{pmatrix}\n0 \\\\\n1\n\\end{pmatrix}\n$$\n\n\nThese states can also be represented in a linear mathematical functional form. This introduces the **bra-ket notation**. This is particularly useful in the **Hilbert** spaces which have an inner product that lends itself to **Hermitian** conjugation and presents a vector with a linear functional. Simply put, the **bra** and **ket** represent a row and column vector respectively. This convention allow bras, kets and linear operations to imply matrix multiplication, i.e. the inner product is a column vector multiplied by a row vector.\n\nThis can be represented programmatically using arrays using Numpy. \n\nIn Python, we can ecapsulate this representation as a subclass of the Qubit and it's state. \n\n\n\n\n\n\n\n\n\n<!-- The state of a qubit may be represented as a column vector, and conventionally\n\n<!-- $$\n\\left|0\\right\\rangle =  \n\\begin{pmatrix}\n1 \\\\\n0\n\\end{pmatrix}.\n$$ --> \n\n\n\n",
      "metadata": {},
      "id": "16dafad9-8064-4088-8fec-aa584161dc4b"
    },
    {
      "cell_type": "code",
      "source": "import numpy as np\nimport math\n\n\nimport abc\nimport math\nimport cmath\n\n\n\nclass QBaseState(abc.ABC):\n    \"\"\"Common properties of quantum states.\n    This class represents an abstract method used by QBit and QGate.\n    It presents a column vector and row vector representation \n    \"\"\"\n\n    @property\n    def ket(self):\n        return self._state\n\n    @property\n    def bra(self):\n        return np.conjugate(self._state.T)\n\n    @abc.abstractmethod\n    def __init__(self, state):\n        self._state = state",
      "metadata": {},
      "execution_count": 5,
      "outputs": [],
      "id": "13e525c9-654c-4625-ab8e-c6601089079d"
    },
    {
      "cell_type": "markdown",
      "source": "It may prove useful to define a string initialization of all quantum properties, where ZERO and ONE are string representations of $|0\\rangle$ and $|1\\rangle$ respectively. We may represent a Qbit with a two level quantum system as a class that inherits from the above mentioned QBaseState.",
      "metadata": {},
      "id": "bee5d829-a745-40ca-a121-5ddbe4866059"
    },
    {
      "cell_type": "code",
      "source": "class QBit(QBaseState):\n    \"\"\"A two level quantum system.\n    Attributes:\n        column vector (ket) and  row vector (bra)\n    Constants:\n        ZERO: string representation of 0 qubit\n        ONE : string representation of 1 qubit\n    \"\"\"\n    \n    ZERO = \"0\"\n    ONE  = \"1\"\n\n\n    def __init__(self, qubit_str):\n        \"\"\"initialize a QBit object from its string representation.\n        Args:\n            qubit_str:  \"1\" or \"0\"\n        \"\"\"\n        if qubit_str == QBit.ZERO:\n            state = np.array([[1], [0]])\n        elif qubit_str == QBit.ONE:\n            state = np.array([[0], [1]])\n\n        else:raise ValueError(\"A qubit must be one 0 or 1\")\n                      \n        super().__init__(state)\n        self._state_str = qubit_str\n",
      "metadata": {},
      "execution_count": 6,
      "outputs": [],
      "id": "dcb7ebd4-6cc4-49e4-8f63-00d5d53e0850"
    },
    {
      "cell_type": "markdown",
      "source": "We have included a variable that further encapsulates the string representation. This allows Qbit objects to be initialized using strings and conveniently by refrencing that string class variable as follows:",
      "metadata": {},
      "id": "bb07ed2e-d07d-4ec5-a797-b5717055ea5f"
    },
    {
      "cell_type": "code",
      "source": "\n# Initialize using a string\nZERO_STRING = QBit(\"0\")\nONE_STRING  = QBit(\"1\")\n\n# Initialize using class constant variable\nZERO = QBit(QBit.ZERO)\nONE  = QBit(QBit.ONE)",
      "metadata": {},
      "execution_count": 7,
      "outputs": [],
      "id": "81047ab7-0971-4b0f-ac47-0e0702b8aa70"
    },
    {
      "cell_type": "markdown",
      "source": "We can conveniently reference the properties of the Qbit for a column vector representation or it's Hermitian conjugate conterpart as follows:",
      "metadata": {},
      "id": "b6f5362b-8534-4c08-ba21-27906f98fe96"
    },
    {
      "cell_type": "code",
      "source": "print(\"ZERO Properties\\n\")\n\nprint(\"ket\\n|0>\\n\")\n# column vector\nprint(ZERO.ket)\n\n# skip line for visualization\nprint()\n\nprint(\"\\nbra\\n<|0\\n\")\n# row vector\nprint(ZERO.bra)",
      "metadata": {},
      "execution_count": 8,
      "outputs": [
        {
          "name": "stdout",
          "output_type": "stream",
          "text": "ZERO Properties\n\n\n\nket\n\n|0>\n\n\n\n[[1]\n\n [0]]\n\n\n\n\n\nbra\n\n<|0\n\n\n\n[[1 0]]\n"
        }
      ],
      "id": "10f99716-f488-4308-9cf3-cf3dd504fee8"
    },
    {
      "cell_type": "markdown",
      "source": "# The Quantum Gate",
      "metadata": {},
      "id": "69531ff9-37ed-409e-a4f9-74ae6e40ba51"
    },
    {
      "cell_type": "markdown",
      "source": "Quantum gate are the logical units in quantum computing and are implemented as unitary matrix operations that perform rotational manipulations in the Bloch Sphere. Unitary matrices simply perform transformations on qubits while preserving the angle between them.\n\nQuantum gates can operator on one or more states. The action of a quantum gate on a single qubit is defined as a matrix mulitplication of the unitary matrix and vector as illustrated below\n\n$$\\left|\\psi'\\right\\rangle = U\\left|\\psi\\right\\rangle$$\n\n\n\n\n",
      "metadata": {},
      "id": "282927f7-f2b6-4744-9d84-ad5093835e3b"
    },
    {
      "cell_type": "markdown",
      "source": ">## Single-QuBit Gate\n\n\n>A gate acting upon a single qubit is represented by a $2 \\times 2 $ unitary matrix $U$, where $U$ in general is:\n\n>$$\nU = \\begin{pmatrix}\n\\cos(\\theta/2) & -e^{i\\lambda}\\sin(\\theta/2) \\\\\ne^{i\\phi}\\sin(\\theta/2) & e^{i\\lambda+i\\phi}\\cos(\\theta/2) \n\\end{pmatrix} = U(\\theta, \\phi, \\lambda)  .\n$$\n",
      "metadata": {},
      "id": "bb750aac-96b9-4294-bba5-366c76ceab3b"
    },
    {
      "cell_type": "markdown",
      "source": ">#### The Pauli X Gates\n>The X-gate, also know as the bit-flip or qunatum NOT operation, is defined by\n\n>$$\nX   =  \n\\begin{pmatrix}\n0 & 1\\\\\n1 & 0\n\\end{pmatrix}= |0\\rangle\\langle1|+|1\\rangle\\langle0| =  U(\\pi,0,\\pi)\n$$\n\n>This simply means that if a qubit is in state $0$ then  rotate to state $1$ and vice-versa, a $\\pi$ rotation on the Bloch sphere.",
      "metadata": {},
      "id": "4c8404cc-6788-495c-96c4-1e76dca3ef20"
    },
    {
      "cell_type": "markdown",
      "source": "># Multi-QBit Gate\nAs the name implies a multi-qubit gate is  a quantum gate that acts upon multiple qubits.\n\n>### The Controlled Quantum Gate\nControlled type gates perform action dependent operation. More specifically a controlled two-qubit gate $C_{U}$ applies a unitary $U$ to a second qubit when the state of the first is $\\left|1\\right\\rangle$, where $C_{U}$ \n\n>$$\\begin{equation}\n\tC_U = \\begin{pmatrix}\n\t1 & 0 & 0 & 0 \\\\\n\t0 & u_{00} & 0 & u_{01} \\\\\n\t0 & 0 & 1 & 0 \\\\\n\t0 & u_{10} &0 & u_{11}\n\t\t\\end{pmatrix}.\n\\end{equation}$$\n\n>when the `control` is the MSB and\n\n>$$\\begin{equation}\n\tC_U = \\begin{pmatrix}\n\t1 & 0 & 0  & 0 \\\\\n\t0 & 1 & 0 & 0 \\\\\n\t0 & 0 & u_{00} & u_{01} \\\\\n\t0 & 0 & u_{10} & u_{11}\n\t\t\\end{pmatrix}.\n\\end{equation}$$\n\n\n>when the `control` is the LSB\n\n",
      "metadata": {},
      "id": "6ac29d31-5565-4bb3-8e7d-e2f3bfa483a3"
    },
    {
      "cell_type": "markdown",
      "source": ">### The Controlled-X Gate\nThe controlled-not, denoted $C_{X}$, gate flips the `target` qubit if the `control` is in the state $\\left|1\\right\\rangle$; where\n\n>$$\nC_X = \n\\begin{pmatrix}\n1 & 0 & 0 & 0\\\\\n0 & 1 & 0 & 0\\\\\n0 & 0 & 0 & 1\\\\\n0 & 0 & 1 & 0\n\\end{pmatrix}. \n$$\n\n>when the `control` is the MSB and\n\n$$\nC_X = \n\\begin{pmatrix}\n1 & 0 & 0 & 0\\\\\n0 & 0 & 0 & 1\\\\\n0 & 0 & 1 & 0\\\\\n0 & 1 & 0 & 0\n\\end{pmatrix}. \n$$\n\n>when the `control` is the LSB\n ",
      "metadata": {},
      "id": "44ab5f08-3923-4ac9-a859-2f41b0736d2c"
    },
    {
      "cell_type": "markdown",
      "source": ">A more intuitive way of conceptualizing this operation is to define a quantum if-statement represented by projects of the form $P_{0} =|0\\rangle\\langle0|$ and $P_{1} = |1\\rangle\\langle1|$. Extending this convention to define $C_{X} = P_{0} \\otimes I + P_{1} \\otimes X$, where $\\otimes$ is the kronecker product , $I$ is the indentity operator and $X$ is the pauli X gate defined above. \n\n\n\n>This convention allows a general 2-qubit control gate that acts on an arbitrary number of states to be defined as follows: \n\n<div style=\"background-color:rgba(0, 0, 0, 0); padding:10px 0;font-family:monospace;font-family:monospace;\">\n    \n    \n><font color = \"orange\">while</font> index is less than number of qubits<br> \n\n>&nbsp;&nbsp;&nbsp;&nbsp; <font color = \"orange\">if</font> index is control<br>\n\n>&nbsp;&nbsp;&nbsp;&nbsp;&nbsp;&nbsp; control matrix is tensored with identitty matrix<br>\n>&nbsp;&nbsp;&nbsp;&nbsp;&nbsp;&nbsp; target matrix is tensored with quantum gate\n\n>&nbsp;&nbsp;&nbsp;&nbsp; <font color = \"orange\">else if</font> index is target<br>\n\n>&nbsp;&nbsp;&nbsp;&nbsp;&nbsp;&nbsp; control matrix is tensored  P<sub>1</sub> projector<br>\n>&nbsp;&nbsp;&nbsp;&nbsp;&nbsp;&nbsp; target matrix is tensored  P<sub>0</sub> projector\n\n>&nbsp;&nbsp;&nbsp;&nbsp; <font color = \"orange\">else</font><br> \n>&nbsp;&nbsp;&nbsp;&nbsp;&nbsp;&nbsp; control matrix is tensored with  identitty matrix<br>\n>&nbsp;&nbsp;&nbsp;&nbsp;&nbsp;&nbsp; target matrix is tensored with  identitty matrix\n\n>&nbsp;&nbsp;&nbsp;increment index\n\n>control gate = control matrix + target matrix<br>\n><font color = \"orange\">return</font> control gate \n",
      "metadata": {},
      "id": "233fb3f7-0531-48fb-ba20-59903e0bda59"
    },
    {
      "cell_type": "markdown",
      "source": ">The following Python class defines a Quantum Gate it's properties as well as some attributes that are defined and enforced. The complex attributes of a quantum gate matrix are enfored, the matrix is checked for unitary properties. The multiplication of gates is defined as well as the string initialization of a quantum gate object and the initialization of a quantum control gate object. ",
      "metadata": {},
      "id": "918ba856-84fd-4642-9641-86c7203c361a"
    },
    {
      "cell_type": "code",
      "source": "class QGate(object):\n    \"\"\"A general quantum gate.\n    QGate is a representation of a quantum gate using complex numpy matrices.\n   \n    Attributes:\n        matrix: the matrix representation of the gate\n    \"\"\"\n\n    @property\n    def matrix(self):\n        \"\"\"Return the matrix.\"\"\"\n        return self._matrix\n\n\n\n    def __init__(self, matrix):\n        \"\"\"Create a quantum gate from a numpy matrix.\n        \n        Args:\n            matrix: a complex typed numpy matrix           \n        \"\"\"\n\n        if matrix.dtype == np.dtype('complex128'):\n            self._matrix = matrix\n        else:\n            self._matrix = matrix.astype('complex128')\n\n        shape = self._matrix.shape\n        if shape[0] != shape[1]:\n            raise ValueError(\"Gate is not a square matrix\")\n\n        if not np.allclose(self._matrix.H * self._matrix, np.eye(shape[0])):\n            raise ValueError(\"Gate is not unitary\")\n\n    def __mul__(self, other):\n        \"\"\"Override matrix multiplication operator on QGate objects.\"\"\"\n        if hasattr(other, \"matrix\"):\n            return QGate(self.matrix * other.matrix)\n        return QGate(self.matrix, other)\n\n    \n    @classmethod\n    def String(cls, matrix_str):\n        \"\"\"Create a quantum gate from a string.\n        Args:\n            matrix_str: the string representation of the quantum gate\n        \"\"\"\n        matrix = np.matrix(str(matrix_str), dtype='complex128')\n        return QGate(matrix)\n\n\n    @classmethod\n    def Multiplication(cls, qu_gates):\n        \"\"\" Create a quantum gate by multiplying existing gates\n        Args:\n            qu_gates: a list of QGates to multiply\n        \"\"\"\n        if qu_gates:\n            matrix = qu_gates[0].matrix\n            for i in range(1, len(qu_gates)):\n                if matrix.shape != qu_gates[i].matrix.shape:\n                    raise ValueError(\"The matrices have different shapes\")\n\n                matrix = matrix * qu_gates[i].matrix\n\n            return QGate(matrix)\n        else:\n            raise ValueError(\"No gates specified\")\n\n\n\n\n    @classmethod\n    def Control(cls, qu_gate, control_qubit=1, target_qubit=2, num_qubits=2):\n        \"\"\" Creates a CONTROL-U gate\n        Args:\n            qu_gate: a U QGate\n            control_qubit: index of the control bit, the default is 1\n            target_qubit: the index of the target bit, the default is 2\n            num_qubits: total number of qubits, the default is 2\n        \"\"\"\n        \n        \"\"\"Perform some basic logic checks\"\"\"\n        if num_qubits < 2:\n            raise ValueError(\"control gates must operate on at least 2 qubits\")\n\n        if control_qubit == target_qubit:\n            raise ValueError(\"control qubit must be different than target qubit\")\n\n        if control_qubit > num_qubits:\n            raise ValueError(\"control qubit cannot be greater than total number of qubits\")\n\n        if target_qubit > num_qubits:\n            raise ValueErrorr(\"target qubit cannot be greater than total number of qubits\")\n\n        index = 1\n        \n        \n        control_mat = 1\n        target_mat = 1\n        \n        while index <= num_qubits:\n            if index == control_qubit:\n                    control_mat = np.kron(control_mat, np.eye(2))\n                    target_mat = np.kron(target_mat, qu_gate.matrix)\n\n            elif index == target_qubit:\n                    control_mat = np.kron(control_mat, ZERO.ket * ZERO.bra)\n                    target_mat = np.kron(target_mat, ONE.ket * ONE.bra)\n\n            else:\n                control_mat = np.kron(control_mat, np.eye(2))\n                target_mat = np.kron(target_mat, np.eye(2))\n\n            index += 1\n\n        control_gate = control_mat + target_mat\n        return QGate(control_gate)\n",
      "metadata": {},
      "execution_count": 9,
      "outputs": [],
      "id": "17fbcfae-6be0-46b0-833d-64dccb248710"
    },
    {
      "cell_type": "markdown",
      "source": ">Once the quantum gate is fully defined, single-qubit gates can be intialized as follows:",
      "metadata": {},
      "id": "594fe275-f8b9-449a-8895-6f1ae0469978"
    },
    {
      "cell_type": "code",
      "source": "X = QGate.String(\"0 1; 1 0\")\n\nprint(X.matrix)",
      "metadata": {},
      "execution_count": 10,
      "outputs": [
        {
          "name": "stdout",
          "output_type": "stream",
          "text": "[[0.+0.j 1.+0.j]\n\n [1.+0.j 0.+0.j]]\n"
        }
      ],
      "id": "aeaeead7-e712-40d4-bcac-4a3eb152fe3a"
    },
    {
      "cell_type": "markdown",
      "source": ">A multi-qubit $C_{X}$ gate using the LSB convention",
      "metadata": {},
      "id": "3da25947-9c01-46ad-8d55-c396719343f9"
    },
    {
      "cell_type": "code",
      "source": "CNOT = QGate.Control(X,1,2)\nprint(CNOT.matrix)",
      "metadata": {},
      "execution_count": 11,
      "outputs": [
        {
          "name": "stdout",
          "output_type": "stream",
          "text": "[[1.+0.j 0.+0.j 0.+0.j 0.+0.j]\n\n [0.+0.j 0.+0.j 0.+0.j 1.+0.j]\n\n [0.+0.j 0.+0.j 1.+0.j 0.+0.j]\n\n [0.+0.j 1.+0.j 0.+0.j 0.+0.j]]\n"
        }
      ],
      "id": "dc4ea5a1-2d84-4fb4-9314-c6327c24cfcf"
    },
    {
      "cell_type": "markdown",
      "source": ">and $C_{X}$ gate using the MSB convention",
      "metadata": {},
      "id": "936d8e20-5617-4f73-b8f7-f61b15e88485"
    },
    {
      "cell_type": "code",
      "source": "\nCNOT = QGate.Control(X,2,1)\nprint(CNOT.matrix)",
      "metadata": {},
      "execution_count": 12,
      "outputs": [
        {
          "name": "stdout",
          "output_type": "stream",
          "text": "[[1.+0.j 0.+0.j 0.+0.j 0.+0.j]\n\n [0.+0.j 1.+0.j 0.+0.j 0.+0.j]\n\n [0.+0.j 0.+0.j 0.+0.j 1.+0.j]\n\n [0.+0.j 0.+0.j 1.+0.j 0.+0.j]]\n"
        }
      ],
      "id": "951ce013-fb44-4aa5-892e-2a8e11acf9ae"
    },
    {
      "cell_type": "markdown",
      "source": "# The CNOT Ring Gate",
      "metadata": {},
      "id": "6b12ccb0-04f5-4fae-aefc-00726a71fcde"
    },
    {
      "cell_type": "markdown",
      "source": "The CNOT Ring gate as defined in the brief is a collection of CNOT gates connected in a ring formation. This gate is realised through an ordered multiplication of gates. This is simply implemented as a function that utilizes QBit and QGate class objects defined above as follows:\n",
      "metadata": {},
      "id": "b502eec7-801c-4539-88c9-c3297eaaf878"
    },
    {
      "cell_type": "code",
      "source": "def BasicEntanglerPython(num_qubits=2):\n    \"\"\"Create an arbitrary quantum CNOT Ring gate.\n        CNOT Ring are gates that connect every qubit to\n        its neighbouring qubit where the last qubit neighbours the first.\n        \n        Exceptions are raised by class objects.\n        \n        Args:\n            num_qubits: total number of qubits, default is 2\n         \n        \"\"\"\n    qu_gate = []\n    \n    for i in range(1, num_qubits):\n        qu_gate.append(QGate.Control(X, i,i+1,num_qubits))\n\n    if(num_qubits > 2):\n        qu_gate.insert(0,QGate.Control(X, num_qubits, 1 , num_qubits))\n\n    else:\n        print('''Ring must be greater than 2 Layers,\n                 dropping the entanglement between\n                 the last and the first qubit\n                 when using only two wires \\n''')\n\n    return qu_gate",
      "metadata": {},
      "execution_count": 13,
      "outputs": [],
      "id": "38bfeb23-b589-41e9-be33-0c70e0671f63"
    },
    {
      "cell_type": "markdown",
      "source": "Finally, the function is demonstrated below",
      "metadata": {},
      "id": "2d1e488d-3b8c-4a53-aff5-1a7a3caac7c8"
    },
    {
      "cell_type": "code",
      "source": "num_qubits = int(input(\"Enter number of Layers: Press enter for default(2)\") or \"2\")\n\nCNOT_RING = QGate.Multiplication(BasicEntanglerPython(num_qubits))\nunitary_python = CNOT_RING.matrix\nprint(unitary_python)",
      "metadata": {},
      "execution_count": 14,
      "outputs": [
        {
          "name": "stdout",
          "output_type": "stream",
          "text": "Enter number of Layers: Press enter for default(2)\n\nRing must be greater than 2 Layers,\n\n                 dropping the entanglement between\n\n                 the last and the first qubit\n\n                 when using only two wires \n\n\n\n[[1.+0.j 0.+0.j 0.+0.j 0.+0.j]\n\n [0.+0.j 0.+0.j 0.+0.j 1.+0.j]\n\n [0.+0.j 0.+0.j 1.+0.j 0.+0.j]\n\n [0.+0.j 1.+0.j 0.+0.j 0.+0.j]]\n"
        }
      ],
      "id": "e7514bb9-43e4-4d88-80ec-b23e46c980ef"
    },
    {
      "cell_type": "markdown",
      "source": "\n# Result Validation\n\n\n",
      "metadata": {},
      "id": "57bbe208-5bd5-41b9-8c3c-faeedd8fd7bb"
    },
    {
      "cell_type": "markdown",
      "source": "A similar implementation of the CNOT Ring method using Qiskit is",
      "metadata": {},
      "id": "2c17ac7f-83fb-4da0-9fad-a0b1fc454228"
    },
    {
      "cell_type": "code",
      "source": "def BasicEntanglerQiskit(num_qubits=2):\n    \"\"\"The ring of CNOT gates connects every qubit with its neighbour,\n    with the last qubit being considered as a neighbour to the first qubit.\n    \n    Parameters:\n        number_of_bits (int): number of qubits in circuit, defualt is 2.\n    \"\"\"\n   \n    if int(num_qubits) < 2 :\n        raise ValueError(\"Number of bits must be greater than 1\")\n\n    circuit = QuantumCircuit(num_qubits)\n\n    for i in range (1,num_qubits):\n        circuit.cx(i-1, i)\n        \n    circuit.cx(num_qubits-1,0)\n    simulator = Aer.get_backend('unitary_simulator')\n    result    = execute(circuit, backend = simulator).result()\n    unitary_qiskit   = result.get_unitary()\n    circuit.draw('mpl',filename ='Multi-layer'+str(num_qubits))\n    return unitary_qiskit",
      "metadata": {},
      "execution_count": 15,
      "outputs": [],
      "id": "a3696acc-f834-4f7b-b901-8082c8d33a25"
    },
    {
      "cell_type": "markdown",
      "source": "Finally, a verification of both implementations is defined as follows",
      "metadata": {},
      "id": "af6ac4fe-85e4-496c-9422-94fefa556bb9"
    },
    {
      "cell_type": "code",
      "source": "def Validate(num_qubits):\n    \"\"\"Basic Entangler verification method.\n    A method to verify the basic entangler, display the resultant matrices, \n    display element by element check and the overall verdict \n    of the validation process\n    \n    Parameters:\n        number_of_bits (int): number of qubits in circuit\n    \"\"\"\n\n    CNOT_RING = QGate.Multiplication(BasicEntanglerPython(num_qubits))\n    unitary_python = CNOT_RING.matrix\n\n    print(\"\\nResults from Python\\n\")\n    print(unitary_python)\n\n    print(\"\\nResults from Qiskit\\n\")\n\n    unitary_qiskit = BasicEntanglerQiskit(num_qubits) \n    print(unitary_qiskit)\n\n\n    print(\"\\nElement by Element Check\\n\")\n\n    print(unitary_python == unitary_qiskit)\n\n\n    print(\"\\nVerdict: \", end = '')\n\n    is_equal = np.allclose(unitary_python, unitary_qiskit)\n    if(is_equal):print(\"The results are exactly the same\")\n    else:print(\"The results are not the same\")\n\n",
      "metadata": {},
      "execution_count": 16,
      "outputs": [],
      "id": "3dfdbb22-ebad-40ee-ba28-77ae7ec9f190"
    },
    {
      "cell_type": "markdown",
      "source": "For 5 layer Basic Entangler",
      "metadata": {},
      "id": "c5b9d50a-fc85-4f57-9558-55b2105cda6c"
    },
    {
      "cell_type": "code",
      "source": "num_qubits = int(input(\"Enter number of Layers, Press enter for default (5) \")or \"5\")\nValidate(num_qubits)",
      "metadata": {},
      "execution_count": 17,
      "outputs": [
        {
          "name": "stdout",
          "output_type": "stream",
          "text": "Enter number of Layers, Press enter for default (5) \n\n\n\nResults from Python\n\n\n\n[[1.+0.j 0.+0.j 0.+0.j ... 0.+0.j 0.+0.j 0.+0.j]\n\n [0.+0.j 0.+0.j 0.+0.j ... 0.+0.j 0.+0.j 0.+0.j]\n\n [0.+0.j 0.+0.j 0.+0.j ... 0.+0.j 0.+0.j 0.+0.j]\n\n ...\n\n [0.+0.j 0.+0.j 0.+0.j ... 0.+0.j 0.+0.j 0.+0.j]\n\n [0.+0.j 1.+0.j 0.+0.j ... 0.+0.j 0.+0.j 0.+0.j]\n\n [0.+0.j 0.+0.j 1.+0.j ... 0.+0.j 0.+0.j 0.+0.j]]\n\n\n\nResults from Qiskit\n\n\n\n[[1.+0.j 0.+0.j 0.+0.j ... 0.+0.j 0.+0.j 0.+0.j]\n\n [0.+0.j 0.+0.j 0.+0.j ... 0.+0.j 0.+0.j 0.+0.j]\n\n [0.+0.j 0.+0.j 0.+0.j ... 0.+0.j 0.+0.j 0.+0.j]\n\n ...\n\n [0.+0.j 0.+0.j 0.+0.j ... 0.+0.j 0.+0.j 0.+0.j]\n\n [0.+0.j 1.+0.j 0.+0.j ... 0.+0.j 0.+0.j 0.+0.j]\n\n [0.+0.j 0.+0.j 1.+0.j ... 0.+0.j 0.+0.j 0.+0.j]]\n\n\n\nElement by Element Check\n\n\n\n[[ True  True  True ...  True  True  True]\n\n [ True  True  True ...  True  True  True]\n\n [ True  True  True ...  True  True  True]\n\n ...\n\n [ True  True  True ...  True  True  True]\n\n [ True  True  True ...  True  True  True]\n\n [ True  True  True ...  True  True  True]]\n\n\n\nVerdict: The results are exactly the same\n"
        }
      ],
      "id": "c8f51bac-ae29-456d-865b-71c810b0da3c"
    },
    {
      "cell_type": "markdown",
      "source": "\nThe 5 Layer CNOT Ring is visualized below.\n<img src=\"Multi-layer5.png\"/>",
      "metadata": {},
      "id": "dc57dac5-dfc2-460b-b217-9a6a00705eb5"
    },
    {
      "cell_type": "markdown",
      "source": "For 10 layer Basic Entangler\n",
      "metadata": {},
      "id": "14f887df-ff19-4691-b30d-8697399ae832"
    },
    {
      "cell_type": "code",
      "source": "num_qubits = int(input(\"Enter number of Layers: Press enter for default (10) \")or \"10\")\nValidate(num_qubits)",
      "metadata": {},
      "execution_count": 18,
      "outputs": [
        {
          "name": "stdout",
          "output_type": "stream",
          "text": "Enter number of Layers: Press enter for default (10) \n\n\n\nResults from Python\n\n\n\n[[1.+0.j 0.+0.j 0.+0.j ... 0.+0.j 0.+0.j 0.+0.j]\n\n [0.+0.j 0.+0.j 0.+0.j ... 0.+0.j 0.+0.j 0.+0.j]\n\n [0.+0.j 0.+0.j 0.+0.j ... 0.+0.j 0.+0.j 0.+0.j]\n\n ...\n\n [0.+0.j 0.+0.j 0.+0.j ... 0.+0.j 0.+0.j 0.+0.j]\n\n [0.+0.j 1.+0.j 0.+0.j ... 0.+0.j 0.+0.j 0.+0.j]\n\n [0.+0.j 0.+0.j 1.+0.j ... 0.+0.j 0.+0.j 0.+0.j]]\n\n\n\nResults from Qiskit\n\n\n\n[[1.+0.j 0.+0.j 0.+0.j ... 0.+0.j 0.+0.j 0.+0.j]\n\n [0.+0.j 0.+0.j 0.+0.j ... 0.+0.j 0.+0.j 0.+0.j]\n\n [0.+0.j 0.+0.j 0.+0.j ... 0.+0.j 0.+0.j 0.+0.j]\n\n ...\n\n [0.+0.j 0.+0.j 0.+0.j ... 0.+0.j 0.+0.j 0.+0.j]\n\n [0.+0.j 1.+0.j 0.+0.j ... 0.+0.j 0.+0.j 0.+0.j]\n\n [0.+0.j 0.+0.j 1.+0.j ... 0.+0.j 0.+0.j 0.+0.j]]\n\n\n\nElement by Element Check\n\n\n\n[[ True  True  True ...  True  True  True]\n\n [ True  True  True ...  True  True  True]\n\n [ True  True  True ...  True  True  True]\n\n ...\n\n [ True  True  True ...  True  True  True]\n\n [ True  True  True ...  True  True  True]\n\n [ True  True  True ...  True  True  True]]\n\n\n\nVerdict: The results are exactly the same\n"
        }
      ],
      "id": "e35a1a52-5e34-4f0b-abdd-de92be9b8715"
    },
    {
      "cell_type": "markdown",
      "source": "The 10 Layer CNOT Ring is visualized below.\n<img src=\"Multi-layer10.png\"/>",
      "metadata": {},
      "id": "736b62ab-fd04-4cdd-bb7d-0a703b6958cf"
    }
  ]
}